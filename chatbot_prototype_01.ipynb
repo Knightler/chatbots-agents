{
  "nbformat": 4,
  "nbformat_minor": 0,
  "metadata": {
    "colab": {
      "provenance": [],
      "authorship_tag": "ABX9TyP8iRbNAH0Ni7ijBEjw8aEl",
      "include_colab_link": true
    },
    "kernelspec": {
      "name": "python3",
      "display_name": "Python 3"
    },
    "language_info": {
      "name": "python"
    }
  },
  "cells": [
    {
      "cell_type": "markdown",
      "metadata": {
        "id": "view-in-github",
        "colab_type": "text"
      },
      "source": [
        "<a href=\"https://colab.research.google.com/github/Knightler/chatbots-agents/blob/main/chatbot_prototype_01.ipynb\" target=\"_parent\"><img src=\"https://colab.research.google.com/assets/colab-badge.svg\" alt=\"Open In Colab\"/></a>"
      ]
    },
    {
      "cell_type": "markdown",
      "source": [
        "#**My first chatbot prototype**"
      ],
      "metadata": {
        "id": "jYvG3Kd92nF5"
      }
    },
    {
      "cell_type": "code",
      "source": [],
      "metadata": {
        "id": "_quktQchR_H4"
      },
      "execution_count": null,
      "outputs": []
    }
  ]
}